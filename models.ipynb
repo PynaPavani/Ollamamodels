{
 "cells": [
  {
   "cell_type": "code",
   "execution_count": 1,
   "metadata": {},
   "outputs": [
    {
     "name": "stdout",
     "output_type": "stream",
     "text": [
      "The capital of India is New Delhi.\n"
     ]
    }
   ],
   "source": [
    "import os\n",
    "from langchain_community.llms import Ollama\n",
    "\n",
    "llm=Ollama(temperature=0,model='llama2')\n",
    "query='what is the capital of India'\n",
    "response=llm.invoke(query)\n",
    "print(response)"
   ]
  },
  {
   "cell_type": "code",
   "execution_count": 4,
   "metadata": {},
   "outputs": [
    {
     "name": "stdout",
     "output_type": "stream",
     "text": [
      "The new capital of Andhra Pradesh is Amaravati. It was officially inaugurated on October 6, 2019. Amaravati is located in the Guntur district of Andhra Pradesh and is designed to be a futuristic city with modern infrastructure and amenities. The city is being built from scratch and is expected to become a major hub for business, education, and tourism in the region.\n"
     ]
    }
   ],
   "source": [
    "import os\n",
    "from langchain_community.llms import Ollama\n",
    "\n",
    "llm=Ollama(temperature=0,model='llama3')\n",
    "query='what is the new capital of Andhra Pradesh?'\n",
    "response=llm.invoke(query)\n",
    "print(response)"
   ]
  },
  {
   "cell_type": "code",
   "execution_count": 5,
   "metadata": {},
   "outputs": [
    {
     "name": "stdout",
     "output_type": "stream",
     "text": [
      " The capital of India is New Delhi. It serves as the seat for the government and has been since 1956, when it replaced Calcutta (now Kolkata) which was then the capital during British rule. As a planned city designed by architects Vincent Poncet Lalique and Edwin Lutyens in the colonial style of New Delhi'debutante era, its layout is characterized by wide boulevards lined with trees, grand government buildings like Rashtrapati Bhavan (the Presidential residence), Parliament House, Supreme Court etc. It also hosts several national museums and monuments that reflect India’s rich history and culture.\n"
     ]
    }
   ],
   "source": [
    "import os\n",
    "from langchain_community.llms import Ollama\n",
    "\n",
    "llm=Ollama(temperature=0,model='phi3')\n",
    "query='what is the capital of India'\n",
    "response=llm.invoke(query)\n",
    "print(response)"
   ]
  },
  {
   "cell_type": "code",
   "execution_count": 6,
   "metadata": {},
   "outputs": [
    {
     "name": "stdout",
     "output_type": "stream",
     "text": [
      " The capital of India is New Delhi. It serves as the center of the executive, legislative, and judicial branches of the Indian government. However, it's important to note that New Delhi is not a state or territory but a union territory, administered directly by the central government.\n"
     ]
    }
   ],
   "source": [
    "import os\n",
    "from langchain_community.llms import Ollama\n",
    "\n",
    "llm=Ollama(temperature=0,model='mistral')\n",
    "query='what is the capital of India'\n",
    "response=llm.invoke(query)\n",
    "print(response)"
   ]
  },
  {
   "cell_type": "code",
   "execution_count": 8,
   "metadata": {},
   "outputs": [
    {
     "name": "stdout",
     "output_type": "stream",
     "text": [
      "The capital of India is New Delhi.\n",
      "\n",
      "New Delhi is the capital city of India and is located in the central part of the country. It is the political, economic, and cultural center of the country.\n"
     ]
    }
   ],
   "source": [
    "import os\n",
    "from langchain_community.llms import Ollama\n",
    "\n",
    "llm=Ollama(temperature=0,model='gemma:2b')\n",
    "query='what is the capital of India'\n",
    "response=llm.invoke(query)\n",
    "print(response)"
   ]
  },
  {
   "cell_type": "code",
   "execution_count": 9,
   "metadata": {},
   "outputs": [
    {
     "name": "stdout",
     "output_type": "stream",
     "text": [
      "  The capital of India is New Delhi.\n"
     ]
    }
   ],
   "source": [
    "import os\n",
    "from langchain_community.llms import Ollama\n",
    "\n",
    "llm=Ollama(temperature=0,model='codellama')\n",
    "query='what is the capital of India'\n",
    "response=llm.invoke(query)\n",
    "print(response)"
   ]
  },
  {
   "cell_type": "code",
   "execution_count": 12,
   "metadata": {},
   "outputs": [
    {
     "name": "stdout",
     "output_type": "stream",
     "text": [
      "\u001b[0m\n",
      "\u001b[34m\u001b[1m  You can now view your Streamlit app in your browser.\u001b[0m\n",
      "\u001b[0m\n",
      "\u001b[34m  Local URL: \u001b[0m\u001b[1mhttp://localhost:8501\u001b[0m\n",
      "\u001b[34m  Network URL: \u001b[0m\u001b[1mhttp://172.16.0.212:8501\u001b[0m\n",
      "\u001b[0m\n"
     ]
    }
   ],
   "source": [
    "!streamlit run app.py"
   ]
  },
  {
   "cell_type": "code",
   "execution_count": null,
   "metadata": {},
   "outputs": [],
   "source": []
  }
 ],
 "metadata": {
  "kernelspec": {
   "display_name": ".venv",
   "language": "python",
   "name": "python3"
  },
  "language_info": {
   "codemirror_mode": {
    "name": "ipython",
    "version": 3
   },
   "file_extension": ".py",
   "mimetype": "text/x-python",
   "name": "python",
   "nbconvert_exporter": "python",
   "pygments_lexer": "ipython3",
   "version": "3.11.9"
  }
 },
 "nbformat": 4,
 "nbformat_minor": 2
}
